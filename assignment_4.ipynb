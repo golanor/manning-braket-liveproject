{
 "cells": [
  {
   "cell_type": "code",
   "execution_count": 12,
   "id": "fbce2dcd-2569-42cb-ae73-8f6511c40fff",
   "metadata": {},
   "outputs": [],
   "source": [
    "from braket.circuits import Circuit, Gate, Observable\n",
    "from braket.devices import LocalSimulator\n",
    "from braket.circuits import circuit\n",
    "import braket as bk\n",
    "import matplotlib.pyplot as plt"
   ]
  },
  {
   "cell_type": "code",
   "execution_count": 10,
   "id": "75e9ddc0-f286-4e3f-81a5-6eafb8208b5a",
   "metadata": {},
   "outputs": [
    {
     "data": {
      "text/plain": [
       "['H',\n",
       " 'I',\n",
       " 'X',\n",
       " 'Y',\n",
       " 'Z',\n",
       " 'S',\n",
       " 'Si',\n",
       " 'T',\n",
       " 'Ti',\n",
       " 'V',\n",
       " 'Vi',\n",
       " 'Rx',\n",
       " 'Ry',\n",
       " 'Rz',\n",
       " 'PhaseShift',\n",
       " 'CNot',\n",
       " 'Swap',\n",
       " 'ISwap',\n",
       " 'PSwap',\n",
       " 'XY',\n",
       " 'CPhaseShift',\n",
       " 'CPhaseShift00',\n",
       " 'CPhaseShift01',\n",
       " 'CPhaseShift10',\n",
       " 'CY',\n",
       " 'CZ',\n",
       " 'XX',\n",
       " 'YY',\n",
       " 'ZZ',\n",
       " 'CCNot',\n",
       " 'CSwap',\n",
       " 'Unitary']"
      ]
     },
     "execution_count": 10,
     "metadata": {},
     "output_type": "execute_result"
    }
   ],
   "source": [
    "# all gates\n",
    "bk.circuits.gates.__dir__()[20:]"
   ]
  },
  {
   "cell_type": "code",
   "execution_count": 16,
   "id": "ecc88144-61cb-4a01-9727-cf2b52a914b2",
   "metadata": {},
   "outputs": [],
   "source": [
    "device = LocalSimulator()"
   ]
  },
  {
   "cell_type": "code",
   "execution_count": 17,
   "id": "9c061606-3f83-4ef2-9688-2836eb572653",
   "metadata": {},
   "outputs": [
    {
     "data": {
      "text/plain": [
       "Circuit('instructions': [Instruction('operator': H('qubit_count': 1), 'target': QubitSet([Qubit(0)])), Instruction('operator': CNot('qubit_count': 2), 'target': QubitSet([Qubit(0), Qubit(1)]))])"
      ]
     },
     "execution_count": 17,
     "metadata": {},
     "output_type": "execute_result"
    }
   ],
   "source": [
    "circ = Circuit()\n",
    "circ.h(0)\n",
    "circ.cnot(0, 1)"
   ]
  },
  {
   "cell_type": "code",
   "execution_count": 18,
   "id": "5c9bc2a5-af2c-4754-9f2a-953f644dc4b9",
   "metadata": {},
   "outputs": [],
   "source": [
    "result = device.run(circ, shots=1000).result()"
   ]
  },
  {
   "cell_type": "code",
   "execution_count": 19,
   "id": "ac941f73-e351-4208-bb9f-934704fea462",
   "metadata": {},
   "outputs": [
    {
     "data": {
      "text/plain": [
       "Counter({'00': 501, '11': 499})"
      ]
     },
     "execution_count": 19,
     "metadata": {},
     "output_type": "execute_result"
    }
   ],
   "source": [
    "result.measurement_counts"
   ]
  },
  {
   "cell_type": "code",
   "execution_count": null,
   "id": "a8eb4eaa-974f-4b48-b4ef-926ef28cb293",
   "metadata": {},
   "outputs": [],
   "source": []
  }
 ],
 "metadata": {
  "kernelspec": {
   "display_name": "Braket",
   "language": "python",
   "name": "braket"
  },
  "language_info": {
   "codemirror_mode": {
    "name": "ipython",
    "version": 3
   },
   "file_extension": ".py",
   "mimetype": "text/x-python",
   "name": "python",
   "nbconvert_exporter": "python",
   "pygments_lexer": "ipython3",
   "version": "3.9.6"
  }
 },
 "nbformat": 4,
 "nbformat_minor": 5
}
