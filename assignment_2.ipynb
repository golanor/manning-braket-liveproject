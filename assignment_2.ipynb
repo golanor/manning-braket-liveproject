{
 "cells": [
  {
   "cell_type": "code",
   "execution_count": 1,
   "id": "c00d6e5d-4208-4ad8-8ff1-6e78aa12ba8c",
   "metadata": {},
   "outputs": [],
   "source": [
    "import numpy as np"
   ]
  },
  {
   "cell_type": "code",
   "execution_count": 3,
   "id": "9b5ca64c-00b1-4011-b68a-9f4ec100bfe9",
   "metadata": {},
   "outputs": [
    {
     "data": {
      "text/plain": [
       "6.000000000000001"
      ]
     },
     "execution_count": 3,
     "metadata": {},
     "output_type": "execute_result"
    }
   ],
   "source": [
    "sqrt_2_vector = np.ones(3) * np.sqrt(2)\n",
    "sqrt_2_column_vector = sqrt_2_vector.T.copy()\n",
    "\n",
    "sqrt_2_vector @ sqrt_2_column_vector"
   ]
  },
  {
   "cell_type": "code",
   "execution_count": 4,
   "id": "3896ae7c-77d3-4645-877d-35bab3b244ab",
   "metadata": {},
   "outputs": [
    {
     "data": {
      "text/plain": [
       "array([-17.+56.j,   5.+43.j])"
      ]
     },
     "execution_count": 4,
     "metadata": {},
     "output_type": "execute_result"
    }
   ],
   "source": [
    "col_vector = np.array([1 + 2j, 2 + 3j, 4 + 5j]).T\n",
    "mat = np.array([[1+2j, 2+3j, 4+5j], [6+7j, 4+1j, 2]])\n",
    "mat @ col_vector"
   ]
  }
 ],
 "metadata": {
  "kernelspec": {
   "display_name": "Braket",
   "language": "python",
   "name": "braket"
  },
  "language_info": {
   "codemirror_mode": {
    "name": "ipython",
    "version": 3
   },
   "file_extension": ".py",
   "mimetype": "text/x-python",
   "name": "python",
   "nbconvert_exporter": "python",
   "pygments_lexer": "ipython3",
   "version": "3.9.6"
  }
 },
 "nbformat": 4,
 "nbformat_minor": 5
}
