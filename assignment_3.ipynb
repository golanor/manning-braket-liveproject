{
 "cells": [
  {
   "cell_type": "code",
   "execution_count": 1,
   "id": "9fd15e22-c169-4fbf-8b0e-72b363f596c1",
   "metadata": {},
   "outputs": [],
   "source": [
    "import numpy as np"
   ]
  },
  {
   "cell_type": "code",
   "execution_count": 3,
   "id": "80377a79-4799-4395-b17d-db3110bb7cda",
   "metadata": {},
   "outputs": [
    {
     "data": {
      "text/plain": [
       "array([1., 0., 0., 0.])"
      ]
     },
     "execution_count": 3,
     "metadata": {},
     "output_type": "execute_result"
    }
   ],
   "source": [
    "two_qubit_groundstate = np.zeros(4)\n",
    "two_qubit_groundstate[0] = 1\n",
    "CNOT = np.array([\n",
    "    [1,0,0,0],\n",
    "    [0,1,0,0],\n",
    "    [0,0,0,1],\n",
    "    [0,0,1,0]\n",
    "])\n",
    "\n",
    "CNOT @ two_qubit_groundstate"
   ]
  },
  {
   "cell_type": "code",
   "execution_count": 4,
   "id": "10d46737-57ec-4b8d-addc-0e7f315f0097",
   "metadata": {},
   "outputs": [
    {
     "data": {
      "text/plain": [
       "array([0., 0., 0., 1.])"
      ]
     },
     "execution_count": 4,
     "metadata": {},
     "output_type": "execute_result"
    }
   ],
   "source": [
    "# But if we have one qubit at an excited state\n",
    "two_qubit_state = np.zeros(4)\n",
    "two_qubit_state[2] = 1\n",
    "CNOT @ two_qubit_state"
   ]
  },
  {
   "cell_type": "code",
   "execution_count": 10,
   "id": "ce5175cf-3f50-42f0-84f8-ae468b6ed322",
   "metadata": {},
   "outputs": [
    {
     "data": {
      "text/plain": [
       "array([[1, 0],\n",
       "       [0, 0]])"
      ]
     },
     "execution_count": 10,
     "metadata": {},
     "output_type": "execute_result"
    }
   ],
   "source": [
    "# A |0><0| density matrix\n",
    "ket = np.array([1, 0]).T\n",
    "bra = ket.T.conj().copy()\n",
    "np.kron(ket, bra).reshape(2, 2)"
   ]
  },
  {
   "cell_type": "code",
   "execution_count": null,
   "id": "a7585f19-652d-40b3-8ccf-5a9145ef5a33",
   "metadata": {},
   "outputs": [],
   "source": []
  }
 ],
 "metadata": {
  "kernelspec": {
   "display_name": "Braket",
   "language": "python",
   "name": "braket"
  },
  "language_info": {
   "codemirror_mode": {
    "name": "ipython",
    "version": 3
   },
   "file_extension": ".py",
   "mimetype": "text/x-python",
   "name": "python",
   "nbconvert_exporter": "python",
   "pygments_lexer": "ipython3",
   "version": "3.9.6"
  }
 },
 "nbformat": 4,
 "nbformat_minor": 5
}
